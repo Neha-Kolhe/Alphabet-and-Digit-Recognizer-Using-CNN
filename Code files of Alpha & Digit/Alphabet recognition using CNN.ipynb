{
 "cells": [
  {
   "cell_type": "code",
   "execution_count": 1,
   "id": "ecb541e2",
   "metadata": {},
   "outputs": [],
   "source": [
    "# Importing all the required libraries.\n",
    "\n",
    "import numpy as np\n",
    "import pandas as pd\n",
    "from sklearn.model_selection import train_test_split\n",
    "from sklearn.svm import SVC\n",
    "import matplotlib.pyplot as plt"
   ]
  },
  {
   "cell_type": "code",
   "execution_count": 2,
   "id": "e7e0fc8c",
   "metadata": {},
   "outputs": [],
   "source": [
    "# Reading the dataset files using pandas.\n",
    "\n",
    "train_data = pd.read_csv(\"A_Z Handwritten Data.csv\") "
   ]
  },
  {
   "cell_type": "code",
   "execution_count": 3,
   "id": "b6554e9c",
   "metadata": {},
   "outputs": [
    {
     "data": {
      "text/plain": [
       "(372450, 785)"
      ]
     },
     "execution_count": 3,
     "metadata": {},
     "output_type": "execute_result"
    }
   ],
   "source": [
    "train_data.shape"
   ]
  },
  {
   "cell_type": "code",
   "execution_count": 8,
   "id": "e8814712",
   "metadata": {},
   "outputs": [
    {
     "data": {
      "text/plain": [
       "14    57825\n",
       "18    48419\n",
       "20    29008\n",
       "2     23409\n",
       "19    22495\n",
       "15    19341\n",
       "13    19010\n",
       "0     13869\n",
       "12    12336\n",
       "11    11586\n",
       "17    11566\n",
       "4     11440\n",
       "24    10859\n",
       "22    10784\n",
       "3     10134\n",
       "1      8668\n",
       "9      8493\n",
       "7      7218\n",
       "23     6272\n",
       "25     6076\n",
       "16     5812\n",
       "6      5762\n",
       "10     5603\n",
       "21     4182\n",
       "5      1163\n",
       "8      1120\n",
       "Name: 0, dtype: int64"
      ]
     },
     "execution_count": 8,
     "metadata": {},
     "output_type": "execute_result"
    }
   ],
   "source": [
    "train_data['0'].value_counts()"
   ]
  },
  {
   "cell_type": "code",
   "execution_count": 9,
   "id": "f87f60ed",
   "metadata": {},
   "outputs": [],
   "source": [
    "# Extracting 20% data from dataset .\n",
    "\n",
    "df=train_data.sample(frac=0.2)"
   ]
  },
  {
   "cell_type": "code",
   "execution_count": 10,
   "id": "4e50d444",
   "metadata": {},
   "outputs": [
    {
     "data": {
      "text/plain": [
       "14    11580\n",
       "18     9646\n",
       "20     5855\n",
       "2      4694\n",
       "19     4549\n",
       "13     3862\n",
       "15     3840\n",
       "0      2782\n",
       "12     2414\n",
       "11     2340\n",
       "17     2281\n",
       "4      2243\n",
       "24     2228\n",
       "22     2189\n",
       "3      2030\n",
       "1      1712\n",
       "9      1682\n",
       "7      1397\n",
       "23     1225\n",
       "25     1188\n",
       "10     1177\n",
       "6      1154\n",
       "16     1132\n",
       "21      806\n",
       "5       255\n",
       "8       229\n",
       "Name: 0, dtype: int64"
      ]
     },
     "execution_count": 10,
     "metadata": {},
     "output_type": "execute_result"
    }
   ],
   "source": [
    "df['0'].value_counts()"
   ]
  },
  {
   "cell_type": "code",
   "execution_count": 11,
   "id": "19d432f8",
   "metadata": {},
   "outputs": [
    {
     "data": {
      "text/plain": [
       "(74490, 785)"
      ]
     },
     "execution_count": 11,
     "metadata": {},
     "output_type": "execute_result"
    }
   ],
   "source": [
    "df.shape"
   ]
  },
  {
   "cell_type": "code",
   "execution_count": 12,
   "id": "135e485d",
   "metadata": {},
   "outputs": [
    {
     "data": {
      "text/html": [
       "<div>\n",
       "<style scoped>\n",
       "    .dataframe tbody tr th:only-of-type {\n",
       "        vertical-align: middle;\n",
       "    }\n",
       "\n",
       "    .dataframe tbody tr th {\n",
       "        vertical-align: top;\n",
       "    }\n",
       "\n",
       "    .dataframe thead th {\n",
       "        text-align: right;\n",
       "    }\n",
       "</style>\n",
       "<table border=\"1\" class=\"dataframe\">\n",
       "  <thead>\n",
       "    <tr style=\"text-align: right;\">\n",
       "      <th></th>\n",
       "      <th>0</th>\n",
       "      <th>0.1</th>\n",
       "      <th>0.2</th>\n",
       "      <th>0.3</th>\n",
       "      <th>0.4</th>\n",
       "      <th>0.5</th>\n",
       "      <th>0.6</th>\n",
       "      <th>0.7</th>\n",
       "      <th>0.8</th>\n",
       "      <th>0.9</th>\n",
       "      <th>...</th>\n",
       "      <th>0.639</th>\n",
       "      <th>0.640</th>\n",
       "      <th>0.641</th>\n",
       "      <th>0.642</th>\n",
       "      <th>0.643</th>\n",
       "      <th>0.644</th>\n",
       "      <th>0.645</th>\n",
       "      <th>0.646</th>\n",
       "      <th>0.647</th>\n",
       "      <th>0.648</th>\n",
       "    </tr>\n",
       "  </thead>\n",
       "  <tbody>\n",
       "    <tr>\n",
       "      <th>24852</th>\n",
       "      <td>2</td>\n",
       "      <td>0</td>\n",
       "      <td>0</td>\n",
       "      <td>0</td>\n",
       "      <td>0</td>\n",
       "      <td>0</td>\n",
       "      <td>0</td>\n",
       "      <td>0</td>\n",
       "      <td>0</td>\n",
       "      <td>0</td>\n",
       "      <td>...</td>\n",
       "      <td>0</td>\n",
       "      <td>0</td>\n",
       "      <td>0</td>\n",
       "      <td>0</td>\n",
       "      <td>0</td>\n",
       "      <td>0</td>\n",
       "      <td>0</td>\n",
       "      <td>0</td>\n",
       "      <td>0</td>\n",
       "      <td>0</td>\n",
       "    </tr>\n",
       "    <tr>\n",
       "      <th>334109</th>\n",
       "      <td>20</td>\n",
       "      <td>0</td>\n",
       "      <td>0</td>\n",
       "      <td>0</td>\n",
       "      <td>0</td>\n",
       "      <td>0</td>\n",
       "      <td>0</td>\n",
       "      <td>0</td>\n",
       "      <td>0</td>\n",
       "      <td>0</td>\n",
       "      <td>...</td>\n",
       "      <td>0</td>\n",
       "      <td>0</td>\n",
       "      <td>0</td>\n",
       "      <td>0</td>\n",
       "      <td>0</td>\n",
       "      <td>0</td>\n",
       "      <td>0</td>\n",
       "      <td>0</td>\n",
       "      <td>0</td>\n",
       "      <td>0</td>\n",
       "    </tr>\n",
       "    <tr>\n",
       "      <th>364926</th>\n",
       "      <td>24</td>\n",
       "      <td>0</td>\n",
       "      <td>0</td>\n",
       "      <td>0</td>\n",
       "      <td>0</td>\n",
       "      <td>0</td>\n",
       "      <td>0</td>\n",
       "      <td>0</td>\n",
       "      <td>0</td>\n",
       "      <td>0</td>\n",
       "      <td>...</td>\n",
       "      <td>0</td>\n",
       "      <td>0</td>\n",
       "      <td>0</td>\n",
       "      <td>0</td>\n",
       "      <td>0</td>\n",
       "      <td>0</td>\n",
       "      <td>0</td>\n",
       "      <td>0</td>\n",
       "      <td>0</td>\n",
       "      <td>0</td>\n",
       "    </tr>\n",
       "    <tr>\n",
       "      <th>28059</th>\n",
       "      <td>2</td>\n",
       "      <td>0</td>\n",
       "      <td>0</td>\n",
       "      <td>0</td>\n",
       "      <td>0</td>\n",
       "      <td>0</td>\n",
       "      <td>0</td>\n",
       "      <td>0</td>\n",
       "      <td>0</td>\n",
       "      <td>0</td>\n",
       "      <td>...</td>\n",
       "      <td>0</td>\n",
       "      <td>0</td>\n",
       "      <td>0</td>\n",
       "      <td>0</td>\n",
       "      <td>0</td>\n",
       "      <td>0</td>\n",
       "      <td>0</td>\n",
       "      <td>0</td>\n",
       "      <td>0</td>\n",
       "      <td>0</td>\n",
       "    </tr>\n",
       "    <tr>\n",
       "      <th>292952</th>\n",
       "      <td>19</td>\n",
       "      <td>0</td>\n",
       "      <td>0</td>\n",
       "      <td>0</td>\n",
       "      <td>0</td>\n",
       "      <td>0</td>\n",
       "      <td>0</td>\n",
       "      <td>0</td>\n",
       "      <td>0</td>\n",
       "      <td>0</td>\n",
       "      <td>...</td>\n",
       "      <td>0</td>\n",
       "      <td>0</td>\n",
       "      <td>0</td>\n",
       "      <td>0</td>\n",
       "      <td>0</td>\n",
       "      <td>0</td>\n",
       "      <td>0</td>\n",
       "      <td>0</td>\n",
       "      <td>0</td>\n",
       "      <td>0</td>\n",
       "    </tr>\n",
       "  </tbody>\n",
       "</table>\n",
       "<p>5 rows × 785 columns</p>\n",
       "</div>"
      ],
      "text/plain": [
       "         0  0.1  0.2  0.3  0.4  0.5  0.6  0.7  0.8  0.9  ...  0.639  0.640  \\\n",
       "24852    2    0    0    0    0    0    0    0    0    0  ...      0      0   \n",
       "334109  20    0    0    0    0    0    0    0    0    0  ...      0      0   \n",
       "364926  24    0    0    0    0    0    0    0    0    0  ...      0      0   \n",
       "28059    2    0    0    0    0    0    0    0    0    0  ...      0      0   \n",
       "292952  19    0    0    0    0    0    0    0    0    0  ...      0      0   \n",
       "\n",
       "        0.641  0.642  0.643  0.644  0.645  0.646  0.647  0.648  \n",
       "24852       0      0      0      0      0      0      0      0  \n",
       "334109      0      0      0      0      0      0      0      0  \n",
       "364926      0      0      0      0      0      0      0      0  \n",
       "28059       0      0      0      0      0      0      0      0  \n",
       "292952      0      0      0      0      0      0      0      0  \n",
       "\n",
       "[5 rows x 785 columns]"
      ]
     },
     "execution_count": 12,
     "metadata": {},
     "output_type": "execute_result"
    }
   ],
   "source": [
    "df.head(5)"
   ]
  },
  {
   "cell_type": "code",
   "execution_count": 13,
   "id": "3abc6b22",
   "metadata": {},
   "outputs": [
    {
     "data": {
      "text/plain": [
       "14    11580\n",
       "18     9646\n",
       "20     5855\n",
       "2      4694\n",
       "19     4549\n",
       "13     3862\n",
       "15     3840\n",
       "0      2782\n",
       "12     2414\n",
       "11     2340\n",
       "17     2281\n",
       "4      2243\n",
       "24     2228\n",
       "22     2189\n",
       "3      2030\n",
       "1      1712\n",
       "9      1682\n",
       "7      1397\n",
       "23     1225\n",
       "25     1188\n",
       "10     1177\n",
       "6      1154\n",
       "16     1132\n",
       "21      806\n",
       "5       255\n",
       "8       229\n",
       "Name: 0, dtype: int64"
      ]
     },
     "execution_count": 13,
     "metadata": {},
     "output_type": "execute_result"
    }
   ],
   "source": [
    "df[\"0\"].value_counts()"
   ]
  },
  {
   "cell_type": "code",
   "execution_count": 14,
   "id": "4183c764",
   "metadata": {},
   "outputs": [
    {
     "data": {
      "text/plain": [
       "(50000, 785)"
      ]
     },
     "execution_count": 14,
     "metadata": {},
     "output_type": "execute_result"
    }
   ],
   "source": [
    "a=df.iloc[:50000,:]\n",
    "a.shape"
   ]
  },
  {
   "cell_type": "code",
   "execution_count": 15,
   "id": "de428571",
   "metadata": {},
   "outputs": [],
   "source": [
    "## Separating the X and Y variable\n",
    "\n",
    "y = a['0']\n",
    "\n",
    "## Dropping the variable 'label' from X variable \n",
    "x = a.drop('0',axis=1)"
   ]
  },
  {
   "cell_type": "code",
   "execution_count": 140,
   "id": "de697ba0",
   "metadata": {},
   "outputs": [
    {
     "data": {
      "text/plain": [
       "((50000, 784), (50000,))"
      ]
     },
     "execution_count": 140,
     "metadata": {},
     "output_type": "execute_result"
    }
   ],
   "source": [
    "x.shape, y.shape"
   ]
  },
  {
   "cell_type": "code",
   "execution_count": 141,
   "id": "e4e48e77",
   "metadata": {},
   "outputs": [
    {
     "data": {
      "text/plain": [
       "pandas.core.frame.DataFrame"
      ]
     },
     "execution_count": 141,
     "metadata": {},
     "output_type": "execute_result"
    }
   ],
   "source": [
    "type(x)"
   ]
  },
  {
   "cell_type": "code",
   "execution_count": 143,
   "id": "c0914fca",
   "metadata": {},
   "outputs": [],
   "source": [
    "x = np.array(x)\n",
    "x = x.reshape(-1,28,28,1)"
   ]
  },
  {
   "cell_type": "code",
   "execution_count": 144,
   "id": "cd17c744",
   "metadata": {},
   "outputs": [
    {
     "data": {
      "text/plain": [
       "(50000, 28, 28, 1)"
      ]
     },
     "execution_count": 144,
     "metadata": {},
     "output_type": "execute_result"
    }
   ],
   "source": [
    "x.shape"
   ]
  },
  {
   "cell_type": "code",
   "execution_count": 145,
   "id": "b4d43331",
   "metadata": {},
   "outputs": [
    {
     "data": {
      "text/plain": [
       "(50000, 28, 28, 1)"
      ]
     },
     "execution_count": 145,
     "metadata": {},
     "output_type": "execute_result"
    }
   ],
   "source": [
    "# Scaling the input data\n",
    "\n",
    "x = x/255          \n",
    "x.shape"
   ]
  },
  {
   "cell_type": "code",
   "execution_count": 146,
   "id": "f6f2bad5",
   "metadata": {},
   "outputs": [],
   "source": [
    "# Importing to_categorical library from tensorflow.\n",
    "\n",
    "from tensorflow.keras.utils import to_categorical"
   ]
  },
  {
   "cell_type": "code",
   "execution_count": 147,
   "id": "010ce690",
   "metadata": {},
   "outputs": [],
   "source": [
    "y = to_categorical(y,num_classes=26)"
   ]
  },
  {
   "cell_type": "code",
   "execution_count": 148,
   "id": "05ee8be0",
   "metadata": {},
   "outputs": [],
   "source": [
    "# Importing libraries required to build a CNN model.\n",
    "\n",
    "from tensorflow.keras.models import Sequential\n",
    "from tensorflow.keras.layers import Dense, Conv2D, MaxPool2D, Flatten"
   ]
  },
  {
   "cell_type": "code",
   "execution_count": 149,
   "id": "e7f228b7",
   "metadata": {},
   "outputs": [],
   "source": [
    "# Building a CNN model.\n",
    "\n",
    "model = Sequential()\n",
    "model.add(Conv2D(16,(3,3),padding='same',activation='relu',input_shape=(28,28,1)))\n",
    "model.add(MaxPool2D())\n",
    "model.add(Conv2D(32,(3,3),padding='same',activation='relu'))\n",
    "model.add(MaxPool2D())\n",
    "model.add(Conv2D(64,(3,3),padding='same',activation='relu'))\n",
    "model.add(MaxPool2D())\n",
    "model.add(Flatten())\n",
    "model.add(Dense(26,activation='softmax'))"
   ]
  },
  {
   "cell_type": "code",
   "execution_count": 150,
   "id": "d830438e",
   "metadata": {},
   "outputs": [
    {
     "name": "stdout",
     "output_type": "stream",
     "text": [
      "Model: \"sequential_12\"\n",
      "_________________________________________________________________\n",
      " Layer (type)                Output Shape              Param #   \n",
      "=================================================================\n",
      " conv2d_22 (Conv2D)          (None, 28, 28, 16)        160       \n",
      "                                                                 \n",
      " max_pooling2d_21 (MaxPoolin  (None, 14, 14, 16)       0         \n",
      " g2D)                                                            \n",
      "                                                                 \n",
      " conv2d_23 (Conv2D)          (None, 14, 14, 32)        4640      \n",
      "                                                                 \n",
      " max_pooling2d_22 (MaxPoolin  (None, 7, 7, 32)         0         \n",
      " g2D)                                                            \n",
      "                                                                 \n",
      " conv2d_24 (Conv2D)          (None, 7, 7, 64)          18496     \n",
      "                                                                 \n",
      " max_pooling2d_23 (MaxPoolin  (None, 3, 3, 64)         0         \n",
      " g2D)                                                            \n",
      "                                                                 \n",
      " flatten_9 (Flatten)         (None, 576)               0         \n",
      "                                                                 \n",
      " dense_9 (Dense)             (None, 26)                15002     \n",
      "                                                                 \n",
      "=================================================================\n",
      "Total params: 38,298\n",
      "Trainable params: 38,298\n",
      "Non-trainable params: 0\n",
      "_________________________________________________________________\n"
     ]
    }
   ],
   "source": [
    "# Reports the strength of the relationship between the model and the dependent variable.\n",
    "\n",
    "model.summary()"
   ]
  },
  {
   "cell_type": "code",
   "execution_count": 151,
   "id": "9f07a94d",
   "metadata": {},
   "outputs": [],
   "source": [
    "# Defines the loss function, the optimizer and the metrics.\n",
    "\n",
    "model.compile(loss='categorical_crossentropy',metrics=['accuracy'])"
   ]
  },
  {
   "cell_type": "code",
   "execution_count": 152,
   "id": "d50576e2",
   "metadata": {},
   "outputs": [
    {
     "name": "stdout",
     "output_type": "stream",
     "text": [
      "Epoch 1/10\n",
      "1563/1563 [==============================] - 26s 15ms/step - loss: 0.3952 - accuracy: 0.8872\n",
      "Epoch 2/10\n",
      "1563/1563 [==============================] - 25s 16ms/step - loss: 0.1241 - accuracy: 0.9651\n",
      "Epoch 3/10\n",
      "1563/1563 [==============================] - 26s 17ms/step - loss: 0.0921 - accuracy: 0.9748\n",
      "Epoch 4/10\n",
      "1563/1563 [==============================] - 26s 17ms/step - loss: 0.0758 - accuracy: 0.9799\n",
      "Epoch 5/10\n",
      "1563/1563 [==============================] - 27s 17ms/step - loss: 0.0661 - accuracy: 0.9824\n",
      "Epoch 6/10\n",
      "1563/1563 [==============================] - 27s 17ms/step - loss: 0.0568 - accuracy: 0.9848\n",
      "Epoch 7/10\n",
      "1563/1563 [==============================] - 27s 17ms/step - loss: 0.0520 - accuracy: 0.9862\n",
      "Epoch 8/10\n",
      "1563/1563 [==============================] - 27s 17ms/step - loss: 0.0459 - accuracy: 0.9877\n",
      "Epoch 9/10\n",
      "1563/1563 [==============================] - 28s 18ms/step - loss: 0.0433 - accuracy: 0.9884\n",
      "Epoch 10/10\n",
      "1563/1563 [==============================] - 28s 18ms/step - loss: 0.0394 - accuracy: 0.9895\n"
     ]
    },
    {
     "data": {
      "text/plain": [
       "<keras.callbacks.History at 0x25b05af1400>"
      ]
     },
     "execution_count": 152,
     "metadata": {},
     "output_type": "execute_result"
    }
   ],
   "source": [
    "# Training the model with the given inputs.\n",
    "\n",
    "model.fit(x,y,epochs=10,batch_size=32)"
   ]
  },
  {
   "cell_type": "code",
   "execution_count": 153,
   "id": "d4fefa61",
   "metadata": {},
   "outputs": [],
   "source": [
    "# Importing libraries for displaying the image.\n",
    "\n",
    "import os\n",
    "import cv2"
   ]
  },
  {
   "cell_type": "code",
   "execution_count": 154,
   "id": "90135973",
   "metadata": {},
   "outputs": [],
   "source": [
    "# Function to preprocessing the image\n",
    "\n",
    "def get_digit(path):\n",
    "    img = cv2.imread(path,0)\n",
    "    img = cv2.resize(img, (28,28)) /255\n",
    "    return model.predict(img.reshape(1,28,28,1)).argmax()"
   ]
  },
  {
   "cell_type": "code",
   "execution_count": 155,
   "id": "e347f53f",
   "metadata": {},
   "outputs": [
    {
     "data": {
      "text/plain": [
       "9"
      ]
     },
     "execution_count": 155,
     "metadata": {},
     "output_type": "execute_result"
    }
   ],
   "source": [
    "# Calling the above function.\n",
    "\n",
    "get_digit('imgA.jpg')"
   ]
  },
  {
   "cell_type": "code",
   "execution_count": 156,
   "id": "d98fd191",
   "metadata": {},
   "outputs": [],
   "source": [
    "# Locating the dataset file.\n",
    "\n",
    "folder_location = '../Amol/Alpha Dataset/'"
   ]
  },
  {
   "cell_type": "code",
   "execution_count": 157,
   "id": "9d8e0664",
   "metadata": {},
   "outputs": [],
   "source": [
    "# Extracting files from the folder location.\n",
    "\n",
    "file_names = os.listdir(folder_location)"
   ]
  },
  {
   "cell_type": "code",
   "execution_count": 158,
   "id": "6b2580fa",
   "metadata": {},
   "outputs": [
    {
     "data": {
      "text/plain": [
       "['imgA.png', 'imgB.jpg', 'imgF.png', 'imgM.png']"
      ]
     },
     "execution_count": 158,
     "metadata": {},
     "output_type": "execute_result"
    }
   ],
   "source": [
    "file_names"
   ]
  },
  {
   "cell_type": "code",
   "execution_count": 159,
   "id": "e00b5806",
   "metadata": {},
   "outputs": [
    {
     "name": "stdout",
     "output_type": "stream",
     "text": [
      "../Jyoti/Datasets/Alphabet Dataset/imgA.png\n",
      "../Jyoti/Datasets/Alphabet Dataset/imgB.jpg\n",
      "../Jyoti/Datasets/Alphabet Dataset/imgF.png\n",
      "../Jyoti/Datasets/Alphabet Dataset/imgM.png\n"
     ]
    }
   ],
   "source": [
    "# Creating the path of the image.\n",
    "\n",
    "for file in file_names:\n",
    "    print(folder_location+file)"
   ]
  },
  {
   "cell_type": "code",
   "execution_count": 160,
   "id": "5e00f55a",
   "metadata": {},
   "outputs": [
    {
     "name": "stdout",
     "output_type": "stream",
     "text": [
      "imgA.png \t----- 0\n",
      "imgB.jpg \t----- 1\n",
      "imgF.png \t----- 5\n",
      "imgM.png \t----- 24\n"
     ]
    }
   ],
   "source": [
    "# Getting the image file from the location.\n",
    "\n",
    "for file in file_names:\n",
    "    digit = get_digit(folder_location+file)\n",
    "    print(file, '\\t-----',digit)"
   ]
  }
 ],
 "metadata": {
  "kernelspec": {
   "display_name": "Python 3 (ipykernel)",
   "language": "python",
   "name": "python3"
  },
  "language_info": {
   "codemirror_mode": {
    "name": "ipython",
    "version": 3
   },
   "file_extension": ".py",
   "mimetype": "text/x-python",
   "name": "python",
   "nbconvert_exporter": "python",
   "pygments_lexer": "ipython3",
   "version": "3.9.7"
  }
 },
 "nbformat": 4,
 "nbformat_minor": 5
}
